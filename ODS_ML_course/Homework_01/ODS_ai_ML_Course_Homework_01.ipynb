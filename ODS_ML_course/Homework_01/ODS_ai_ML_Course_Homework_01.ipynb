{
  "nbformat": 4,
  "nbformat_minor": 0,
  "metadata": {
    "colab": {
      "name": "ODS.ai_ML_Course.ipynb",
      "provenance": [],
      "collapsed_sections": []
    },
    "kernelspec": {
      "name": "python3",
      "display_name": "Python 3"
    },
    "language_info": {
      "name": "python"
    }
  },
  "cells": [
    {
      "cell_type": "code",
      "execution_count": null,
      "metadata": {
        "colab": {
          "base_uri": "https://localhost:8080/",
          "height": 35
        },
        "id": "PxQvRDmshtlX",
        "outputId": "928f571d-57f5-411e-ce35-84495a42e542"
      },
      "outputs": [
        {
          "output_type": "execute_result",
          "data": {
            "application/vnd.google.colaboratory.intrinsic+json": {
              "type": "string"
            },
            "text/plain": [
              "'Linux-5.4.144+-x86_64-with-Ubuntu-18.04-bionic'"
            ]
          },
          "metadata": {},
          "execution_count": 1
        }
      ],
      "source": [
        "import platform\n",
        "platform.platform()"
      ]
    },
    {
      "cell_type": "code",
      "source": [
        "import sys\n",
        "sys.version"
      ],
      "metadata": {
        "colab": {
          "base_uri": "https://localhost:8080/",
          "height": 35
        },
        "id": "Ea4cid_dhx4s",
        "outputId": "3b8caa80-04cf-4d92-84ce-7efaaea56d23"
      },
      "execution_count": null,
      "outputs": [
        {
          "output_type": "execute_result",
          "data": {
            "application/vnd.google.colaboratory.intrinsic+json": {
              "type": "string"
            },
            "text/plain": [
              "'3.7.12 (default, Jan 15 2022, 18:48:18) \\n[GCC 7.5.0]'"
            ]
          },
          "metadata": {},
          "execution_count": 2
        }
      ]
    },
    {
      "cell_type": "markdown",
      "source": [
        "# Задание № 1\n"
      ],
      "metadata": {
        "id": "JDuP9YKhgLU7"
      }
    },
    {
      "cell_type": "markdown",
      "source": [
        "Написать код, который вычисляет сумму всех чисел, удовлетворяющих следующие условия:\n",
        "\n",
        "\n",
        "\n",
        "*   положительные целые числа от 1 до 1_000_000_002 (один миллиард два) включительно\n",
        "\n",
        "*   которые нацело (без остатка) делятся на 3 (пример: 3, 6, 9, ...)\n",
        "\n",
        "*   и которые не заканчиваются на 4 и 7 (пример заканчивающихся на 4 и 7: 24, 27, 54, 57 ...)\n",
        "\n",
        "\n",
        "\n",
        "\n",
        "\n",
        "\n",
        "\n",
        "\n"
      ],
      "metadata": {
        "id": "3TVHtLnMqpdI"
      }
    },
    {
      "cell_type": "code",
      "source": [
        "# Медленный вариант\n",
        "\n",
        "def my_sum(x):\n",
        "  y = 3\n",
        "  sum = 0\n",
        "  while y <= x :\n",
        "    if (y % 3 == 0) and (y % 10 != 7) and (y % 10 != 4) : \n",
        "      # print(\"y =\", y, 'OK!')\n",
        "      sum += y\n",
        "      y += 3\n",
        "    else: \n",
        "      # print(\"y =\", y, 'BAD!')\n",
        "      y += 3\n",
        "  print(sum)\n",
        "\n",
        "my_sum(1_000_000_002)"
      ],
      "metadata": {
        "colab": {
          "base_uri": "https://localhost:8080/",
          "height": 322
        },
        "id": "DrcI4KsKqqRv",
        "outputId": "98309fb6-8760-4340-e355-1c59211a1656"
      },
      "execution_count": null,
      "outputs": [
        {
          "output_type": "error",
          "ename": "KeyboardInterrupt",
          "evalue": "ignored",
          "traceback": [
            "\u001b[0;31m---------------------------------------------------------------------------\u001b[0m",
            "\u001b[0;31mKeyboardInterrupt\u001b[0m                         Traceback (most recent call last)",
            "\u001b[0;32m<ipython-input-43-f3fa8b6c28da>\u001b[0m in \u001b[0;36m<module>\u001b[0;34m()\u001b[0m\n\u001b[1;32m     12\u001b[0m   \u001b[0mprint\u001b[0m\u001b[0;34m(\u001b[0m\u001b[0msum\u001b[0m\u001b[0;34m)\u001b[0m\u001b[0;34m\u001b[0m\u001b[0;34m\u001b[0m\u001b[0m\n\u001b[1;32m     13\u001b[0m \u001b[0;34m\u001b[0m\u001b[0m\n\u001b[0;32m---> 14\u001b[0;31m \u001b[0mmy_sum\u001b[0m\u001b[0;34m(\u001b[0m\u001b[0;36m1_000_000_002\u001b[0m\u001b[0;34m)\u001b[0m\u001b[0;34m\u001b[0m\u001b[0;34m\u001b[0m\u001b[0m\n\u001b[0m",
            "\u001b[0;32m<ipython-input-43-f3fa8b6c28da>\u001b[0m in \u001b[0;36mmy_sum\u001b[0;34m(x)\u001b[0m\n\u001b[1;32m      3\u001b[0m   \u001b[0msum\u001b[0m \u001b[0;34m=\u001b[0m \u001b[0;36m0\u001b[0m\u001b[0;34m\u001b[0m\u001b[0;34m\u001b[0m\u001b[0m\n\u001b[1;32m      4\u001b[0m   \u001b[0;32mwhile\u001b[0m \u001b[0my\u001b[0m \u001b[0;34m<=\u001b[0m \u001b[0mx\u001b[0m \u001b[0;34m:\u001b[0m\u001b[0;34m\u001b[0m\u001b[0;34m\u001b[0m\u001b[0m\n\u001b[0;32m----> 5\u001b[0;31m     \u001b[0;32mif\u001b[0m \u001b[0;34m(\u001b[0m\u001b[0my\u001b[0m \u001b[0;34m%\u001b[0m \u001b[0;36m3\u001b[0m \u001b[0;34m==\u001b[0m \u001b[0;36m0\u001b[0m\u001b[0;34m)\u001b[0m \u001b[0;32mand\u001b[0m \u001b[0;34m(\u001b[0m\u001b[0my\u001b[0m \u001b[0;34m%\u001b[0m \u001b[0;36m10\u001b[0m \u001b[0;34m!=\u001b[0m \u001b[0;36m7\u001b[0m\u001b[0;34m)\u001b[0m \u001b[0;32mand\u001b[0m \u001b[0;34m(\u001b[0m\u001b[0my\u001b[0m \u001b[0;34m%\u001b[0m \u001b[0;36m10\u001b[0m \u001b[0;34m!=\u001b[0m \u001b[0;36m4\u001b[0m\u001b[0;34m)\u001b[0m \u001b[0;34m:\u001b[0m\u001b[0;34m\u001b[0m\u001b[0;34m\u001b[0m\u001b[0m\n\u001b[0m\u001b[1;32m      6\u001b[0m       \u001b[0;31m# print(\"y =\", y, 'OK!')\u001b[0m\u001b[0;34m\u001b[0m\u001b[0;34m\u001b[0m\u001b[0;34m\u001b[0m\u001b[0m\n\u001b[1;32m      7\u001b[0m       \u001b[0msum\u001b[0m \u001b[0;34m+=\u001b[0m \u001b[0my\u001b[0m\u001b[0;34m\u001b[0m\u001b[0;34m\u001b[0m\u001b[0m\n",
            "\u001b[0;31mKeyboardInterrupt\u001b[0m: "
          ]
        }
      ]
    },
    {
      "cell_type": "code",
      "source": [
        "# Медленный вариант с оптимизацией\n",
        "\n",
        "def my_sum(x):\n",
        "  y = 1\n",
        "  sum = 0\n",
        "  while y <= x :\n",
        "    if (y % 3 == 0) and (y % 10 != 7) and (y % 10 != 4) : \n",
        "    #  print(\"y =\", y, 'OK!')\n",
        "      sum += y\n",
        "      y += 1\n",
        "    else: \n",
        "     # print(\"y =\", y, 'BAD!')\n",
        "      y += 1\n",
        "  print(sum)\n",
        "\n",
        "\n",
        "def my_sum_fast(x):\n",
        "  S1 = ((x/3)/2) * (2 * 3 + (x/3 - 1) * 3)\n",
        "  print(S1)\n",
        "\n",
        "\n",
        "\n",
        "my_sum_fast(1_000_000_002)"
      ],
      "metadata": {
        "colab": {
          "base_uri": "https://localhost:8080/"
        },
        "id": "h5CLH2nNW8yf",
        "outputId": "9282a59d-b72f-48a2-8987-55f910bdc7f3"
      },
      "execution_count": null,
      "outputs": [
        {
          "output_type": "stream",
          "name": "stdout",
          "text": [
            "1.6666666783333334e+17\n"
          ]
        }
      ]
    },
    {
      "cell_type": "code",
      "source": [
        "# Быстрый вариант\n",
        "\n",
        "%%time\n",
        "a = 3\n",
        "a_n = 1000000002\n",
        "d = 3\n",
        "\n",
        "b = 24\n",
        "b_n = 999999984\n",
        "\n",
        "c = 27\n",
        "c_n = 999999987\n",
        "d2 = 30\n",
        "\n",
        "\n",
        "n_a = ((a_n - a)//d) +1\n",
        "n_b = ((b_n - b)//d2) + 1\n",
        "n_c = ((c_n - c)//d2) + 1\n",
        "\n",
        "sum =   ((2*a + d*(n_a-1))*n_a)//2 \n",
        "sum_b = ((2*b + d2*(n_b-1))*n_b)//2\n",
        "sum_c = ((2*c + d2*(n_c-1))*n_c)//2\n",
        "\n",
        "s = sum - (sum_b + sum_c)\n",
        "\n",
        "print(s) \n"
      ],
      "metadata": {
        "colab": {
          "base_uri": "https://localhost:8080/"
        },
        "id": "sqfru1hPhKdZ",
        "outputId": "4f10aca5-e000-4951-a0ea-108cfd90d1bd"
      },
      "execution_count": 1,
      "outputs": [
        {
          "output_type": "stream",
          "name": "stdout",
          "text": [
            "133333334466666672\n",
            "CPU times: user 1.26 ms, sys: 0 ns, total: 1.26 ms\n",
            "Wall time: 1.27 ms\n"
          ]
        }
      ]
    },
    {
      "cell_type": "markdown",
      "source": [
        "# **Задание № 2**"
      ],
      "metadata": {
        "id": "z24Ec47jgBWP"
      }
    },
    {
      "cell_type": "markdown",
      "source": [
        "\n",
        "На вход поступает текстовый файл из 3-х тысяч строк.\n",
        "\n",
        "Формат файла:\n",
        "    `\"арифметическая операция\"    \"целое число #1\"    \"целое число #2\"`\n",
        "\n",
        "**Разделитель** - *4 пробела*\n",
        "\n",
        " \n",
        "\n",
        "Нужно подготовить текстовый файл из 1 строки.\n",
        "\n",
        "Строка содержит набор из 3-х тысяч чисел, разделенных запятой.\n",
        "\n",
        "После последнего числа запятая не ставится.\n",
        "\n",
        "каждое число - результат операции: \n",
        "    `\"результирующее целое число\" = \"целое число #1\" применить \"арифметическая операция\" \"целое число #2\"`\n",
        "\n",
        "**Допустимые операции:**\n",
        "\n",
        "\n",
        "\\+ (сложение)\n",
        "\n",
        "\\- (вычитание)\n",
        "\n",
        "\\* (умножение)\n",
        "\n",
        "\\// (целочисленное деление) (для этой операции подаются только положительные числа)\n",
        "\n",
        "% (остаток от деления) (для этой операции подаются только положительные числа)\n",
        "\n",
        "** (возведение в степень) (для этой операции подаются только положительные числа)\n",
        "    \n",
        "Входные числа - только целые.\n",
        "Выходные числа - только целые.\n"
      ],
      "metadata": {
        "id": "pTeCoAyVehAo"
      }
    },
    {
      "cell_type": "code",
      "source": [
        "# Cкачиваем необходимые файлы\n",
        "\n",
        "!gdown --id 1cUwWogWRCrg5J-jT36azcG4rgCGlJ4q- # Входной файл для самопроверки.\n",
        "!gdown --id 13QNXb6D6IGTsfl5qpDJB8ypY4gVVh1bs # Выходной файл для самопроверки.\n",
        "!gdown --id 1meEF0EEtGKOtlH--wL5nKhfR0gdculxM # Реальный входной файл для вычисления и подготовки ответа."
      ],
      "metadata": {
        "colab": {
          "base_uri": "https://localhost:8080/"
        },
        "id": "zjx1O-gEeX6c",
        "outputId": "780d3da0-f065-42e5-d300-95f031679f05"
      },
      "execution_count": 2,
      "outputs": [
        {
          "output_type": "stream",
          "name": "stdout",
          "text": [
            "Downloading...\n",
            "From: https://drive.google.com/uc?id=1cUwWogWRCrg5J-jT36azcG4rgCGlJ4q-\n",
            "To: /content/test_input_file_1.txt\n",
            "100% 54.0k/54.0k [00:00<00:00, 39.3MB/s]\n",
            "Downloading...\n",
            "From: https://drive.google.com/uc?id=13QNXb6D6IGTsfl5qpDJB8ypY4gVVh1bs\n",
            "To: /content/test_output_file_1.txt\n",
            "100% 50.3k/50.3k [00:00<00:00, 17.4MB/s]\n",
            "Downloading...\n",
            "From: https://drive.google.com/uc?id=1meEF0EEtGKOtlH--wL5nKhfR0gdculxM\n",
            "To: /content/input_file.txt\n",
            "100% 54.1k/54.1k [00:00<00:00, 20.4MB/s]\n"
          ]
        }
      ]
    },
    {
      "cell_type": "code",
      "source": [
        "# Tests\n",
        "\n",
        "import operator\n",
        "ops = { \n",
        "    \"+\": operator.add, \n",
        "    \"-\": operator.sub,\n",
        "    \"*\": operator.mul,\n",
        "    \"//\": operator.floordiv,\n",
        "    \"%\": operator.mod,\n",
        "    \"**\": operator.pow\n",
        "     }\n",
        "\n",
        "str_in = '+ 10 3'\n",
        "list_in = str_in.split(' ')\n",
        "print(list_in)\n",
        "op = list_in[0]\n",
        "n1 = int(list_in[1])\n",
        "n2 = int(list_in[2])\n",
        "\n",
        "print(ops[op](n1,n2))\n",
        "print(ops[\"-\"](n1,n2))\n",
        "print(ops[\"*\"](n1,n2))\n",
        "print(ops[\"//\"](n1,n2))\n",
        "print(ops[\"%\"](n1,n2))\n",
        "print(ops[\"**\"](n1,n2))"
      ],
      "metadata": {
        "colab": {
          "base_uri": "https://localhost:8080/"
        },
        "id": "KY3ss47axwxE",
        "outputId": "5bd0b8a6-e179-462e-d3dd-6561d4fa63f2"
      },
      "execution_count": null,
      "outputs": [
        {
          "output_type": "stream",
          "name": "stdout",
          "text": [
            "['+', '10', '3']\n",
            "13\n",
            "7\n",
            "30\n",
            "3\n",
            "1\n",
            "1000\n"
          ]
        }
      ]
    },
    {
      "cell_type": "code",
      "source": [
        "# Решение\n",
        "\n",
        "import operator\n",
        "  \n",
        "ops = { \n",
        "    \"+\": operator.add, \n",
        "    \"-\": operator.sub,\n",
        "    \"*\": operator.mul,\n",
        "    \"//\": operator.floordiv,\n",
        "    \"%\": operator.mod,\n",
        "    \"**\": operator.pow\n",
        "     }\n",
        "\n",
        "out_str = ''\n",
        "with open('test_input_file_1.txt') as f_in:\n",
        "  for line in f_in:\n",
        "    list_in = line.split('   ')\n",
        "    list_in[2] = list_in[2].rstrip()\n",
        "    res = ops[list_in[0]](int(list_in[1]), int(list_in[2]))\n",
        "    out_str += str(res) + ','\n",
        "\n",
        "f_out = open('out.txt', \"w\")\n",
        "f_out.write(out_str[:-1])\n",
        "f_out.close()"
      ],
      "metadata": {
        "id": "m2IDCgp0yb-S"
      },
      "execution_count": 6,
      "outputs": []
    },
    {
      "cell_type": "code",
      "source": [
        "# Проверка, сравнение файлов\n",
        "\n",
        "import filecmp\n",
        "f1 = \"test_output_file_1.txt\"\n",
        "f2 = \"out.txt\"\n",
        "  \n",
        "# shallow comparison\n",
        "result = filecmp.cmp(f1, f2)\n",
        "print(result)\n",
        "# deep comparison\n",
        "result = filecmp.cmp(f1, f2, shallow=False)\n",
        "print(result)"
      ],
      "metadata": {
        "colab": {
          "base_uri": "https://localhost:8080/"
        },
        "id": "OPPbsJDV3BEz",
        "outputId": "054d78cd-a0d7-4cbe-97bb-ae1e3169aa3c"
      },
      "execution_count": 7,
      "outputs": [
        {
          "output_type": "stream",
          "name": "stdout",
          "text": [
            "True\n",
            "True\n"
          ]
        }
      ]
    },
    {
      "cell_type": "markdown",
      "source": [
        "# Задание № 3"
      ],
      "metadata": {
        "id": "tHr8bUaogR05"
      }
    },
    {
      "cell_type": "markdown",
      "source": [
        "На вход поступает два текстовый файл из 3-х тысяч строк каждый.\n",
        "\n",
        "Первый файл содержит строки текста.   \n",
        " \n",
        "Второй файл содержит строки из двух целых неотрицательных чисел.\n",
        "\n",
        "Первое число в строке всегда меньше или равно второму.\n",
        "\n",
        "Числа всегда меньше длины соответствующей строки первого файла.\n",
        "\n",
        "Соответствующей - это значит 1-ая строка из 1-го файла соответствует 1-ой строке из 2-го файла, а 123-я строка из 1-го файла соответствует 123-ей строке из 2-го файла.\n",
        " \n",
        "Подготовить выходной файл, который состоит из подстрок 1-го входного файла.\n",
        "\n",
        "Подстроки разделены пробелами.\n",
        "\n",
        "Какие брать подстроки - написано во втором файле.\n",
        "\n",
        "В конце файла пробела нет.\n",
        "\n",
        "**Например:**\n",
        "\n",
        "\n",
        "\n",
        "```\n",
        "    120 строка в 1-ом файле: JBOljrfkrfjgikenfjerkrkvkfKUGlknc\n",
        "    120 строка во 2-ом файле: 13 27\n",
        "```\n",
        "\n",
        "\n",
        "\n",
        "\n",
        "Это значит 120 подстрока в результирующем файле это символы с 13 по 27, включая 13-ый и 27-ой символы.\n",
        "\n",
        "Не забывайте, что нумерация символов в строке с 0.\n",
        "\n",
        "Пример требуемой подстроки: kenfjerkrkvkfKU"
      ],
      "metadata": {
        "id": "653SSxidgUW9"
      }
    },
    {
      "cell_type": "code",
      "source": [
        "# Скачиваем необходимые файлы\n",
        "\n",
        "!gdown --id 1vxRXtkte2wkZg6bTkBtSwIhs6jX0AZDv # Пример 1-го входного файла для самопроверки.\n",
        "!gdown --id 1Te1qrEkFlgOGUrw_jn-sQN2RaqVsh1_q # Пример 2-го входного файла для самопроверки.\n",
        "!gdown --id 1olr0IFrmJ7g5ldMEqdqT4ewK5lJxy53a # Пример выходного файла для самопроверки.\n",
        "!gdown --id 1PE_WBegxZ9pet51EYEMnEJATXkwKqMlE # Реальный 1-ый входной файл.\n",
        "!gdown --id 1TaJQbX8l4R30XxnkZTrSgPRNc8SkqUV7 # Реальный 2-ой входной файл."
      ],
      "metadata": {
        "colab": {
          "base_uri": "https://localhost:8080/"
        },
        "id": "r7wiHF9tgrZh",
        "outputId": "9c0d83a1-133d-4c2d-f44f-d758600e8224"
      },
      "execution_count": 8,
      "outputs": [
        {
          "output_type": "stream",
          "name": "stdout",
          "text": [
            "Downloading...\n",
            "From: https://drive.google.com/uc?id=1vxRXtkte2wkZg6bTkBtSwIhs6jX0AZDv\n",
            "To: /content/test_import_file_2_1.txt\n",
            "100% 306k/306k [00:00<00:00, 12.5MB/s]\n",
            "Downloading...\n",
            "From: https://drive.google.com/uc?id=1Te1qrEkFlgOGUrw_jn-sQN2RaqVsh1_q\n",
            "To: /content/test_import_file_2_2.txt\n",
            "100% 17.8k/17.8k [00:00<00:00, 17.1MB/s]\n",
            "Downloading...\n",
            "From: https://drive.google.com/uc?id=1olr0IFrmJ7g5ldMEqdqT4ewK5lJxy53a\n",
            "To: /content/test_output_file_2.txt\n",
            "100% 80.2k/80.2k [00:00<00:00, 11.3MB/s]\n",
            "Downloading...\n",
            "From: https://drive.google.com/uc?id=1PE_WBegxZ9pet51EYEMnEJATXkwKqMlE\n",
            "To: /content/import_file_2_1.txt\n",
            "100% 306k/306k [00:00<00:00, 12.8MB/s]\n",
            "Downloading...\n",
            "From: https://drive.google.com/uc?id=1TaJQbX8l4R30XxnkZTrSgPRNc8SkqUV7\n",
            "To: /content/import_file_2_2.txt\n",
            "100% 17.9k/17.9k [00:00<00:00, 24.1MB/s]\n"
          ]
        }
      ]
    },
    {
      "cell_type": "code",
      "source": [
        "# Tests\n",
        "string = 'rNsZEKdYYlKKRrYGNWEXTYXOpQqrdGANRfoyeVvRwLVhZDfzKhFQkuSYODIXFLYafnXbxuwqZKQKjSiFZAtSponvmulcjicIDhNaQ'\n",
        "print(string[70:70+1])"
      ],
      "metadata": {
        "colab": {
          "base_uri": "https://localhost:8080/"
        },
        "id": "B42mghXS_OYB",
        "outputId": "6aac5adf-da24-4c92-c6aa-830d7003cf8b"
      },
      "execution_count": 9,
      "outputs": [
        {
          "output_type": "stream",
          "name": "stdout",
          "text": [
            "w\n"
          ]
        }
      ]
    },
    {
      "cell_type": "code",
      "source": [
        "# Решение\n",
        "\n",
        "out_str_2 = ''\n",
        "list_str = []\n",
        "list_num = []\n",
        "n_start = 0\n",
        "n_end = 1\n",
        "\n",
        "with open('test_import_file_2_1.txt') as f_str_in:\n",
        "  content_str = f_str_in.read()\n",
        "  list_str = content_str.splitlines() \n",
        "\n",
        "with open('test_import_file_2_2.txt') as f_num_in:\n",
        "  content_num = f_num_in.read()\n",
        "  content_num = content_num.replace('\\n', ' ')\n",
        "  list_num = content_num.split(' ')\n",
        "\n",
        "for string in list_str: \n",
        "  out_str_2 += string[int(list_num[n_start]):int(list_num[n_end])+1] + ' '\n",
        "  n_start += 2\n",
        "  n_end += 2\n",
        "\n",
        "\n",
        "f_out = open('out_2.txt', \"w\")\n",
        "f_out.write(out_str_2[:-1])\n",
        "f_out.close()\n"
      ],
      "metadata": {
        "id": "65xwxr9dBMDW"
      },
      "execution_count": 10,
      "outputs": []
    },
    {
      "cell_type": "code",
      "source": [
        "# Проверка\n",
        "\n",
        "import filecmp\n",
        "f1 = \"test_output_file_2.txt\"\n",
        "f2 = \"out_2.txt\"\n",
        "  \n",
        "# shallow comparison\n",
        "result = filecmp.cmp(f1, f2)\n",
        "print(result)\n",
        "# deep comparison\n",
        "result = filecmp.cmp(f1, f2, shallow=False)\n",
        "print(result)"
      ],
      "metadata": {
        "colab": {
          "base_uri": "https://localhost:8080/"
        },
        "id": "cujZ3OCJCj64",
        "outputId": "44fd6a3a-5acb-4404-9487-f1e6ee63a41c"
      },
      "execution_count": 11,
      "outputs": [
        {
          "output_type": "stream",
          "name": "stdout",
          "text": [
            "True\n",
            "True\n"
          ]
        }
      ]
    },
    {
      "cell_type": "markdown",
      "source": [
        "# Задание № 4"
      ],
      "metadata": {
        "id": "8YbV2KyXhvpN"
      }
    },
    {
      "cell_type": "markdown",
      "source": [
        "На вход поступает строка.\n",
        "В ней хранится набор химических символов (He, O, H, Mg, Fe, ...). Без пробелов.\n",
        "Нужно расшифровать химические символы в название химических элементов.\n",
        "Для удобства, прилагается json файл, который ставит в соответствие химическому символу его химическое название.\n",
        "\n",
        "**Пример входной строки:**\n",
        "\n",
        "`NOTiFICaTiON`\n",
        "\n",
        "**Пример выходной строки:**\n",
        "\n",
        "`АзотКислородТитанФторЙодКальцийТитанКислородАзот`\n",
        "\n",
        "Для удобства, прилагается json файл, который ставит в соответствие химическому символу его химическое название.\n",
        "\n",
        "Обратите внимание, что, например, \"Bi\" - это \"Висмут\", а не \"БорЙод\".\n",
        "То есть регистр (заглавные или прописные) букв имеет значение.\n",
        "\n",
        "Входная строка содержится в файле, скачайте его."
      ],
      "metadata": {
        "id": "UJo43c1rh03l"
      }
    },
    {
      "cell_type": "code",
      "source": [
        "# Скачиваем файлы\n",
        "\n",
        "!gdown --id 1Z_NMWyS8VYdT6c9ZXt5NPbliSJkWI8Oo # json файл, который ставит в соответствие химическому символу его химическое название.\n",
        "!gdown --id 1D8EGQBGEDWc6wTdMNhfEnpicyYRX5Sf3 # Входная строка для задания."
      ],
      "metadata": {
        "colab": {
          "base_uri": "https://localhost:8080/"
        },
        "id": "JbjySV-XiQlD",
        "outputId": "1da3d952-7205-4869-b10a-d93ff4466085"
      },
      "execution_count": 12,
      "outputs": [
        {
          "output_type": "stream",
          "name": "stdout",
          "text": [
            "Downloading...\n",
            "From: https://drive.google.com/uc?id=1Z_NMWyS8VYdT6c9ZXt5NPbliSJkWI8Oo\n",
            "To: /content/periodic_table.json\n",
            "100% 3.26k/3.26k [00:00<00:00, 4.99MB/s]\n",
            "Downloading...\n",
            "From: https://drive.google.com/uc?id=1D8EGQBGEDWc6wTdMNhfEnpicyYRX5Sf3\n",
            "To: /content/import_file_3.txt\n",
            "100% 951/951 [00:00<00:00, 575kB/s]\n"
          ]
        }
      ]
    },
    {
      "cell_type": "code",
      "source": [
        "# Решение\n",
        "\n",
        "import re\n",
        "import json\n",
        "\n",
        "out_chem = ''\n",
        "periodic_table = json.load(open('periodic_table.json'))\n",
        "\n",
        "with open('import_file_3.txt') as f_chem_in:\n",
        "  str_chem = f_chem_in.read()\n",
        "\n",
        "chem_list = re.findall('[A-Z][^A-Z]*', str_chem)\n",
        "#print(chem_list)\n",
        "for chem in chem_list:\n",
        "  out_chem += periodic_table[chem] \n",
        "\n",
        "f_out = open('out_3.txt', \"w\")\n",
        "f_out.write(out_chem)\n",
        "f_out.close()"
      ],
      "metadata": {
        "id": "1nO7mt3MVAKZ"
      },
      "execution_count": 13,
      "outputs": []
    },
    {
      "cell_type": "code",
      "source": [
        "# Проверка:\n",
        "\n",
        "out_chem = ''\n",
        "periodic_table = json.load(open('periodic_table.json'))\n",
        "\n",
        "chem_list = re.findall('[A-Z][^A-Z]*', \"NOTiFICaTiON\")\n",
        "\n",
        "for chem in chem_list:\n",
        "  out_chem += periodic_table[chem] \n",
        "\n",
        "print(out_chem)"
      ],
      "metadata": {
        "colab": {
          "base_uri": "https://localhost:8080/"
        },
        "id": "FLV4GJ0WiyxV",
        "outputId": "3d232d6b-ccf1-4c47-fdd6-16533bb07542"
      },
      "execution_count": 15,
      "outputs": [
        {
          "output_type": "stream",
          "name": "stdout",
          "text": [
            "АзотКислородТитанФторЙодКальцийТитанКислородАзот\n"
          ]
        }
      ]
    },
    {
      "cell_type": "code",
      "source": [
        "# Результат:\n",
        "\n",
        "!cat out_3.txt"
      ],
      "metadata": {
        "colab": {
          "base_uri": "https://localhost:8080/"
        },
        "id": "Q1DRNgDrX0eB",
        "outputId": "40f02aae-fb24-4464-c55f-060da5445577"
      },
      "execution_count": 14,
      "outputs": [
        {
          "output_type": "stream",
          "name": "stdout",
          "text": [
            "ХромКобальтРадийЛитийБорийМарганецМенделевийСамарийНихонийСвинецКальцийУранУранМолибденИридийПолонийЕвропийУглеродПрометийПолонийРубидийПлутонийОсмийЛоуренсийАргонКюрийПалладийЦерийАзотБерклийБарийЛантанМедьМышьякКалифорнийПразеодимКадмийБарийНеодимАлюминийАлюминийРутенийБарийТаллийФлеровийУнуненнийТеннессинРадонЦерийХромГафнийПрометийЛантанСвинецМенделевийКалифорнийБромБерклийПразеодимГадолинийЭйнштейнийУранКалифорнийНеонМагнийСамарийЛантанБорийЛютецийДармштадтийМолибденСамарийАлюминийКислородСвинецДубнийМедьЦерийЭйнштейнийЭйнштейнийКсенонКальцийМенделевийГелийСурьмаЛиверморийТорийАстатФторРутенийНиобийПразеодимЛитийМедьЛантанНикельИттербийМенделевийХлорАргонПрометийАктинийТулийГадолинийАстатЛиверморийСтронцийНеодимСкандийТулийФторМагнийУнуненнийТеннессинПалладийБромСамарийРутенийКислородТеллурАктинийЛютецийХассийТулийУнуненнийИттербийМарганецУглеродГафнийДиспрозийСвинецРадийСеленПрометийГафнийАлюминийКалийАзотИттрийРтутьПразеодимКсенонВольфрамВодородТеннессинАстатХассийГерманийМышьякРазерфордийПолонийТаллийСераМолибденЛиверморийРтутьМосковийРутенийУглеродТеннессинЛоуренсийХассийПолонийРодийИттербийМышьякЭрбийТулийЙодТитанАлюминийСиборгийАзотФторВанадийНептунийМедьКадмийСамарийАстатЖелезоНеодимГалийФторЛитийБромИндийБорийОсмийЕвропийНиобийЛитийИридийФлеровийМолибденФлеровийМедьЛантанМосковийКалийСеленНикельКадмийКюрийМышьякСераСеленТулийФранцийПолонийНикельТеллурСтронцийМолибденЭрбийПлатинаНобелийВанадийИндийГадолинийТулийТитанОсмийПразеодимБорийКюрийАмерицийКислородСиборгийСтронцийСтронцийТеллурНатрийСкандийКремнийЭрбийРубидийПразеодимТеллурХлорПолонийАргонСамарийАргонЛютецийОловоСтронцийЗолотоФосфорГафнийТанталНептунийОганесонАргонКоперницийДиспрозийЛантанСамарийКобальтСурьмаКремнийБорийТербийТербийКюрийСераЭрбийИттербийКобальтБорийЭйнштейнийКальцийЭрбийГольмийГелийАлюминийТеннессинХлорРадийБериллийРубидийРенийГольмийТулийОловоТехнецийГадолинийБерклийЖелезоНептунийКальцийНикельНобелийТаллийМагнийМагнийЛантанНиобийНикельАстатМейтнерийРадийНиобийОганесонХлорДармштадтийКриптонГелийТербийРадийФосфорКадмийАзотЛитийПалладийБромЦинкЦинкБерклийКремнийЙодЦерийВисмутВисмутКалийБорЭрбийФранцийБерклийКсенонЦинкГадолинийЭрбийНеонРенгенийГалийРенгенийГелийРенгенийФермийКоперницийТаллийРтутьГалийНиобийНихонийПалладийЛоуренсийКалийНатрийКриптонКоперницийАмерицийЭрбийГерманийГадолинийТорийТулийУглеродСеленРенгенийБорийДубнийДиспрозийВольфрамКалифорнийСамарийФлеровийБорНеонКислородБерклийПрометийУнуненнийПразеодимКоперницийЦерийТитанБерклийФторУнуненнийКадмийКислородИттербийИттербийЛитийЕвропийЭйнштейнийБерклийРтутьГадолинийЛитийМосковийНептунийИттрийГафнийХлорЖелезоМейтнерийКальцийКсенонНикельЭрбийРенгенийГольмийНикельТербийРадийЙодМедьТулийМагнийКобальтМагнийКадмийБорийЦерийКоперницийНеонУранАргонФранцийВанадийЭрбийРодийЗолотоНептунийНептунийНептунийГерманийКоперницийЛиверморийЛантанСтронцийИридийЛютецийКалифорнийИттербийФлеровийАктинийУранКалифорнийИндийБорСурьмаАмерицийСтронцийБромКобальтВанадийКремнийИндийСамарийОсмийТеллурПлатинаМолибденРазерфордийЦинкТанталВодородПалладийСеленЗолотоВанадийМышьякРтутьТеллурКсенонМагнийНиобийУнуненнийМейтнерийИттрийДубнийКислородГадолинийКриптонКсенонФермийФторГафнийРадонГелийМолибденДармштадтийКоперницийМейтнерийОсмийВисмутПолонийСтронцийАзотПалладийРенгенийКриптонКалийКриптонГафнийФтор"
          ]
        }
      ]
    },
    {
      "cell_type": "code",
      "source": [
        ""
      ],
      "metadata": {
        "id": "huizyOPcbGxR"
      },
      "execution_count": null,
      "outputs": []
    }
  ]
}